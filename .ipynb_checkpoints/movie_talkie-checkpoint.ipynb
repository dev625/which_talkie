{
 "cells": [
  {
   "cell_type": "markdown",
   "metadata": {
    "colab_type": "text",
    "id": "3u-Dlm_KaXFt"
   },
   "source": [
    "\n",
    "\n",
    "\n",
    "\n",
    "# ** Movie Talkie : Predicting a movie choice that majority of friends would agree on given n number of movie choices**\n",
    "\n",
    "\n",
    "---\n",
    "\n",
    "\n"
   ]
  },
  {
   "cell_type": "code",
   "execution_count": null,
   "metadata": {
    "colab": {
     "base_uri": "https://localhost:8080/",
     "height": 68
    },
    "colab_type": "code",
    "id": "t9Sm_WLdaYL_",
    "outputId": "7939b095-e570-4967-c579-0227cc13d1ac"
   },
   "outputs": [
    {
     "name": "stdout",
     "output_type": "stream",
     "text": [
      "System Info :  3.6.9 (default, Apr 18 2020, 01:56:04) \n",
      "[GCC 8.4.0]\n",
      "Tensorflow Version :  2.2.0\n"
     ]
    }
   ],
   "source": [
    "import sys\n",
    "import csv\n",
    "import tensorflow as tf\n",
    "import pandas as pd\n",
    "import numpy as np\n",
    "import matplotlib.pyplot as plt\n",
    "\n",
    "print(\"System Info : \", sys.version)\n",
    "print(\"Tensorflow Version : \", tf.__version__)"
   ]
  },
  {
   "cell_type": "code",
   "execution_count": null,
   "metadata": {
    "colab": {
     "base_uri": "https://localhost:8080/",
     "height": 71
    },
    "colab_type": "code",
    "id": "I5_vzXv6aakI",
    "outputId": "b2c95d9d-70a9-45a8-953e-58ca33f91eeb"
   },
   "outputs": [
    {
     "name": "stdout",
     "output_type": "stream",
     "text": [
      "(81273, 22)\n",
      "imdb_title_id,title,original_title,year,date_published,genre,duration,country,language,director,writer,production_company,actors,description,avg_vote,votes,budget,usa_gross_income,worlwide_gross_income,metascore,reviews_from_users,reviews_from_critics,"
     ]
    }
   ],
   "source": [
    "data = pd.read_csv(\"/content/drive/My Drive/imdb_movies.csv\")\n",
    "print(data.shape)\n",
    "for col in data.columns:\n",
    "  print(col,end=\",\")"
   ]
  },
  {
   "cell_type": "code",
   "execution_count": null,
   "metadata": {
    "colab": {
     "base_uri": "https://localhost:8080/",
     "height": 299
    },
    "colab_type": "code",
    "id": "w2brNE3Xai-g",
    "outputId": "e5b2ed0f-81bc-4ec9-e9ec-85655dc92904"
   },
   "outputs": [
    {
     "data": {
      "text/html": [
       "<div>\n",
       "<style scoped>\n",
       "    .dataframe tbody tr th:only-of-type {\n",
       "        vertical-align: middle;\n",
       "    }\n",
       "\n",
       "    .dataframe tbody tr th {\n",
       "        vertical-align: top;\n",
       "    }\n",
       "\n",
       "    .dataframe thead th {\n",
       "        text-align: right;\n",
       "    }\n",
       "</style>\n",
       "<table border=\"1\" class=\"dataframe\">\n",
       "  <thead>\n",
       "    <tr style=\"text-align: right;\">\n",
       "      <th></th>\n",
       "      <th>imdb_title_id</th>\n",
       "      <th>title</th>\n",
       "      <th>original_title</th>\n",
       "      <th>year</th>\n",
       "      <th>date_published</th>\n",
       "      <th>genre</th>\n",
       "      <th>duration</th>\n",
       "      <th>country</th>\n",
       "      <th>language</th>\n",
       "      <th>director</th>\n",
       "      <th>writer</th>\n",
       "      <th>production_company</th>\n",
       "      <th>actors</th>\n",
       "      <th>description</th>\n",
       "      <th>avg_vote</th>\n",
       "      <th>votes</th>\n",
       "      <th>budget</th>\n",
       "      <th>usa_gross_income</th>\n",
       "      <th>worlwide_gross_income</th>\n",
       "      <th>metascore</th>\n",
       "      <th>reviews_from_users</th>\n",
       "      <th>reviews_from_critics</th>\n",
       "    </tr>\n",
       "  </thead>\n",
       "  <tbody>\n",
       "    <tr>\n",
       "      <th>0</th>\n",
       "      <td>tt0000574</td>\n",
       "      <td>The Story of the Kelly Gang</td>\n",
       "      <td>The Story of the Kelly Gang</td>\n",
       "      <td>1906</td>\n",
       "      <td>1906-12-26</td>\n",
       "      <td>Biography, Crime, Drama</td>\n",
       "      <td>70</td>\n",
       "      <td>Australia</td>\n",
       "      <td>NaN</td>\n",
       "      <td>Charles Tait</td>\n",
       "      <td>Charles Tait</td>\n",
       "      <td>J. and N. Tait</td>\n",
       "      <td>Elizabeth Tait, John Tait, Norman Campbell, Be...</td>\n",
       "      <td>True story of notorious Australian outlaw Ned ...</td>\n",
       "      <td>6.1</td>\n",
       "      <td>537</td>\n",
       "      <td>$ 2250</td>\n",
       "      <td>NaN</td>\n",
       "      <td>NaN</td>\n",
       "      <td>NaN</td>\n",
       "      <td>7.0</td>\n",
       "      <td>7.0</td>\n",
       "    </tr>\n",
       "    <tr>\n",
       "      <th>1</th>\n",
       "      <td>tt0001892</td>\n",
       "      <td>Den sorte drøm</td>\n",
       "      <td>Den sorte drøm</td>\n",
       "      <td>1911</td>\n",
       "      <td>1911-08-19</td>\n",
       "      <td>Drama</td>\n",
       "      <td>53</td>\n",
       "      <td>Germany, Denmark</td>\n",
       "      <td>NaN</td>\n",
       "      <td>Urban Gad</td>\n",
       "      <td>Urban Gad, Gebhard Schätzler-Perasini</td>\n",
       "      <td>Fotorama</td>\n",
       "      <td>Asta Nielsen, Valdemar Psilander, Gunnar Helse...</td>\n",
       "      <td>Two men of high rank are both wooing the beaut...</td>\n",
       "      <td>5.9</td>\n",
       "      <td>171</td>\n",
       "      <td>NaN</td>\n",
       "      <td>NaN</td>\n",
       "      <td>NaN</td>\n",
       "      <td>NaN</td>\n",
       "      <td>4.0</td>\n",
       "      <td>2.0</td>\n",
       "    </tr>\n",
       "  </tbody>\n",
       "</table>\n",
       "</div>"
      ],
      "text/plain": [
       "  imdb_title_id  ... reviews_from_critics\n",
       "0     tt0000574  ...                  7.0\n",
       "1     tt0001892  ...                  2.0\n",
       "\n",
       "[2 rows x 22 columns]"
      ]
     },
     "execution_count": 3,
     "metadata": {
      "tags": []
     },
     "output_type": "execute_result"
    }
   ],
   "source": [
    "data.head(2)"
   ]
  },
  {
   "cell_type": "code",
   "execution_count": null,
   "metadata": {
    "colab": {
     "base_uri": "https://localhost:8080/",
     "height": 68
    },
    "colab_type": "code",
    "id": "oVu2vcSdb3iU",
    "outputId": "e2082a7e-49b6-4231-ac1c-31033074f078"
   },
   "outputs": [
    {
     "name": "stdout",
     "output_type": "stream",
     "text": [
      "Requirement already satisfied: rake_nltk in /usr/local/lib/python3.6/dist-packages (1.0.4)\n",
      "Requirement already satisfied: nltk in /usr/local/lib/python3.6/dist-packages (from rake_nltk) (3.2.5)\n",
      "Requirement already satisfied: six in /usr/local/lib/python3.6/dist-packages (from nltk->rake_nltk) (1.12.0)\n"
     ]
    }
   ],
   "source": [
    "#Installing and Importing Required Libraries \n",
    "!pip install rake_nltk\n",
    "from rake_nltk import Rake\n",
    "\n",
    "from sklearn.metrics.pairwise import cosine_similarity\n",
    "from sklearn.feature_extraction.text import CountVectorizer\n",
    "#Using Rake to get keywords from the movie description and sklearn for measuring similarity"
   ]
  },
  {
   "cell_type": "code",
   "execution_count": null,
   "metadata": {
    "colab": {
     "base_uri": "https://localhost:8080/",
     "height": 230
    },
    "colab_type": "code",
    "id": "eJBBE7IJau4n",
    "outputId": "8e447662-38ba-427f-978e-d003f405fdad"
   },
   "outputs": [
    {
     "data": {
      "text/html": [
       "<div>\n",
       "<style scoped>\n",
       "    .dataframe tbody tr th:only-of-type {\n",
       "        vertical-align: middle;\n",
       "    }\n",
       "\n",
       "    .dataframe tbody tr th {\n",
       "        vertical-align: top;\n",
       "    }\n",
       "\n",
       "    .dataframe thead th {\n",
       "        text-align: right;\n",
       "    }\n",
       "</style>\n",
       "<table border=\"1\" class=\"dataframe\">\n",
       "  <thead>\n",
       "    <tr style=\"text-align: right;\">\n",
       "      <th></th>\n",
       "      <th>desc</th>\n",
       "    </tr>\n",
       "    <tr>\n",
       "      <th>title</th>\n",
       "      <th></th>\n",
       "    </tr>\n",
       "  </thead>\n",
       "  <tbody>\n",
       "    <tr>\n",
       "      <th>max dugan returns</th>\n",
       "      <td>comedy drama life disrupted father child comes...</td>\n",
       "    </tr>\n",
       "    <tr>\n",
       "      <th>naajayaz</th>\n",
       "      <td>action drama sweetheart police inspector jay b...</td>\n",
       "    </tr>\n",
       "    <tr>\n",
       "      <th>passengers</th>\n",
       "      <td>drama friday night los angeles naturally get m...</td>\n",
       "    </tr>\n",
       "    <tr>\n",
       "      <th>samrajyam</th>\n",
       "      <td>action crime thriller story underworld fall up...</td>\n",
       "    </tr>\n",
       "    <tr>\n",
       "      <th>g</th>\n",
       "      <td>drama romance gatsbyesque love story set hop g...</td>\n",
       "    </tr>\n",
       "  </tbody>\n",
       "</table>\n",
       "</div>"
      ],
      "text/plain": [
       "                                                                desc\n",
       "title                                                               \n",
       "max dugan returns  comedy drama life disrupted father child comes...\n",
       "naajayaz           action drama sweetheart police inspector jay b...\n",
       "passengers         drama friday night los angeles naturally get m...\n",
       "samrajyam          action crime thriller story underworld fall up...\n",
       "g                  drama romance gatsbyesque love story set hop g..."
      ]
     },
     "execution_count": 5,
     "metadata": {
      "tags": []
     },
     "output_type": "execute_result"
    }
   ],
   "source": [
    "#Data Preprocessing and Cleaning \n",
    "df = data[['title','genre','description']].dropna(axis=0)           #Dropping the rows with empty values\n",
    "df = df.sample(frac=0.2,random_state=1)                             #This leads to a total of 15769 values \n",
    "\n",
    "for col in df.columns:                                              #converting all entries to lowercase \n",
    "  df[col] = df[col].str.lower()\n",
    "df = df.set_index(['title'])                                        #Changing the index to title\n",
    "\n",
    "\n",
    "#Approach : Combining the genre and description into one column and then calculating the cosine similarity\n",
    "#           between the different movies.\n",
    "df['desc'] = \"\"\n",
    "\n",
    "for index,row in df.iterrows():\n",
    "  description = row['description']\n",
    "  r = Rake()\n",
    "  r.extract_keywords_from_text(description)\n",
    "  dict_scores = r.get_word_degrees()                               #To get keyword phrases ranked lowest to highest\n",
    "  row['desc'] = ','.join(list((dict_scores.keys())))\n",
    "  row['genre'] = row['genre'].replace(\", \",\",\") + ','\n",
    "\n",
    "df['desc'] = df['genre'] + df['desc']\n",
    "for index,row in df.iterrows():\n",
    "    row['desc'] = row['desc'].replace(',',\" \")\n",
    "\n",
    "df.drop(columns=['genre','description'],inplace=True)\n",
    "df.head()"
   ]
  },
  {
   "cell_type": "code",
   "execution_count": null,
   "metadata": {
    "colab": {
     "base_uri": "https://localhost:8080/",
     "height": 34
    },
    "colab_type": "code",
    "id": "hRN2E7cmeCJQ",
    "outputId": "6e18f735-daa5-40ca-cba4-ec0f28475cc8"
   },
   "outputs": [
    {
     "name": "stdout",
     "output_type": "stream",
     "text": [
      "(15769, 15769)\n"
     ]
    }
   ],
   "source": [
    "count = CountVectorizer()\n",
    "count_matrix = count.fit_transform(df['desc'])\n",
    "sim_matrix = cosine_similarity(count_matrix,count_matrix)\n",
    "print(sim_matrix.shape)"
   ]
  },
  {
   "cell_type": "code",
   "execution_count": null,
   "metadata": {
    "colab": {
     "base_uri": "https://localhost:8080/",
     "height": 221
    },
    "colab_type": "code",
    "id": "YexyC9Dhxvht",
    "outputId": "888f6274-c3a2-4ba7-f1f0-cbedfb6d37bd"
   },
   "outputs": [
    {
     "data": {
      "text/plain": [
       "0                       max dugan returns\n",
       "1                                naajayaz\n",
       "2                              passengers\n",
       "3                               samrajyam\n",
       "4                                       g\n",
       "                       ...               \n",
       "15764                     tenemos 18 años\n",
       "15765            andy hardy's double life\n",
       "15766                         liar's edge\n",
       "15767                island of doomed men\n",
       "15768    little rascals: best of our gang\n",
       "Name: title, Length: 15769, dtype: object"
      ]
     },
     "execution_count": 7,
     "metadata": {
      "tags": []
     },
     "output_type": "execute_result"
    }
   ],
   "source": [
    "indices = pd.Series(df.index)\n",
    "key_list = list(dict(indices).keys())\n",
    "val_list = list(dict(indices).values())\n",
    "indices"
   ]
  },
  {
   "cell_type": "code",
   "execution_count": null,
   "metadata": {
    "colab": {},
    "colab_type": "code",
    "id": "nfqJPGQ_3S6A"
   },
   "outputs": [],
   "source": [
    "df.to_csv('test.csv')                                               #Save as CSV file for debugging"
   ]
  },
  {
   "cell_type": "code",
   "execution_count": null,
   "metadata": {
    "colab": {},
    "colab_type": "code",
    "id": "RspAHbGas43n"
   },
   "outputs": [],
   "source": [
    "#Approach for Subtask 1:\n",
    "\n",
    "#We take the cosine similarity of every input movie with with every other input movie and\n",
    "#take the mean of them for a single movie.\n",
    "\n",
    "#The one with the highest mean value is going to be the recommended movie choice ie the one with highest similarity with \n",
    "#all the other movies.\n",
    "\n",
    "def recommender(n,movies):\n",
    "  imovies = [key_list[val_list.index(item)] for item in movies]\n",
    "  scores = []\n",
    "  for i1 in range(n):\n",
    "    simscore = 0\n",
    "    for i2 in range(n):\n",
    "      if(imovies[i1]!=imovies[i2]):\n",
    "        simscore += sim_matrix[imovies[i1]][imovies[i2]]\n",
    "    simscore/=(n-1)\n",
    "    scores.append(simscore)\n",
    "  return(movies[np.argmax(scores)])\n",
    "\n",
    "def sort_tuplelist(tup_list):\n",
    "  tup_list.sort(key = lambda x : x[1],reverse=True)\n",
    "  return tup_list\n",
    "\n",
    "def recommend():\n",
    "  print(\"Hello Welcome to the Movie Recommender V1.0 :) \")\n",
    "  n = int(input('Please Enter the number of movie choices : \\n'))\n",
    "  movies = []\n",
    "  print(\"Please Enter the movie choices : \\n\")\n",
    "\n",
    "  for i in range(n):\n",
    "    movie = str(input()).lower()\n",
    "    movies.append(movie)\n",
    "  recommended = recommender(n,movies)\n",
    "  print('The movie recommended for you guys is {}!'.format(recommended))\n",
    "\n",
    "  #Further predicting 5 more similar movies based on the recommended one and rank them on the basis of relevance\n",
    "  \n",
    "  id = key_list[val_list.index(recommended)]\n",
    "  row = sim_matrix[id]\n",
    "  row_pair = [(j,row[j]) for j in range(len(row))]\n",
    "  sort_tuplelist(row_pair)\n",
    "  print(\"The 5 best similar matches ranked on basis of relevance are  : \\n\")\n",
    "  for i in range(1,6):\n",
    "    print(i,' : ', val_list[row_pair[i][0]],end=\"\\n\")\n"
   ]
  },
  {
   "cell_type": "code",
   "execution_count": null,
   "metadata": {
    "colab": {
     "base_uri": "https://localhost:8080/",
     "height": 307
    },
    "colab_type": "code",
    "id": "GFGIwC1kxDrw",
    "outputId": "d446101f-67fd-4843-ba21-d09d08f507ad"
   },
   "outputs": [
    {
     "name": "stdout",
     "output_type": "stream",
     "text": [
      "Hello Welcome to the Movie Recommender V1.0 :) \n",
      "Please Enter the number of movie choices : \n",
      "4\n",
      "Please Enter the movie choices : \n",
      "\n",
      "La La Land\n",
      "Avengers: Age of Ultron\n",
      "Captain America: The First Avenger\n",
      "Hulk\n",
      "The movie recommended for you guys is avengers: age of ultron!\n",
      "The 5 best similar matches ranked on basis of relevance are  : \n",
      "\n",
      "1  :  spider-man: far from home\n",
      "2  :  toraberâzu: jigen keisatsu\n",
      "3  :  plan 9 from outer space\n",
      "4  :  captain marvel\n",
      "5  :  iron man\n"
     ]
    }
   ],
   "source": [
    "recommend()"
   ]
  }
 ],
 "metadata": {
  "accelerator": "GPU",
  "colab": {
   "name": "movie_talkie.ipynb",
   "provenance": []
  },
  "kernelspec": {
   "display_name": "Python 3",
   "language": "python",
   "name": "python3"
  },
  "language_info": {
   "codemirror_mode": {
    "name": "ipython",
    "version": 3
   },
   "file_extension": ".py",
   "mimetype": "text/x-python",
   "name": "python",
   "nbconvert_exporter": "python",
   "pygments_lexer": "ipython3",
   "version": "3.8.2"
  }
 },
 "nbformat": 4,
 "nbformat_minor": 1
}
